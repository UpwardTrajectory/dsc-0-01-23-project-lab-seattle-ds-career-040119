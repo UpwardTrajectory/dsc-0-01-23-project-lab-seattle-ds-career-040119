{
 "cells": [
  {
   "cell_type": "markdown",
   "metadata": {},
   "source": [
    "# Project: Analyzing Macbeth"
   ]
  },
  {
   "cell_type": "markdown",
   "metadata": {},
   "source": [
    "## Introduction\n",
    "For our first day and first data science project, we're going to do some rudimentry analysis of Shakespeare's classic play: Macbeth! You will get practice working with lists, condtionals and dictionaries, visualizing data, and thinking analytically about data."
   ]
  },
  {
   "cell_type": "markdown",
   "metadata": {},
   "source": [
    "## Objectives\n",
    "You will be able to:\n",
    "* Show mastery of the content covered in this section"
   ]
  },
  {
   "cell_type": "markdown",
   "metadata": {},
   "source": [
    "### Getting the Data\n",
    "Here we start by importing a python package and using it to pull the transcript of Macbeth from the project Gutenberg website. We also preview a few details about what is now stored in the variable macbeth; it's a string with 119,846 characters, the first 500 of which are printed below. "
   ]
  },
  {
   "cell_type": "code",
   "execution_count": 3,
   "metadata": {},
   "outputs": [
    {
     "name": "stdout",
     "output_type": "stream",
     "text": [
      "['the', 'tragedie', 'of', 'macbeth', 'by', 'william', 'shakespeare', 'july,', '2000', '[etext', '#2264]', '***the', 'project', \"gutenberg's\", 'etext', 'of', \"shakespeare's\", 'first', 'folio***', '********************the', 'tragedie', 'of', 'macbeth*********************', '*****this', 'file', 'should', 'be', 'named', '2264.txt', 'or', '2264.zip******', 'project', 'gutenberg', 'etexts', 'are', 'usually', 'created', 'from', 'multiple', 'editions,', 'all', 'of', 'which', 'are', 'in', 'the', 'public', 'domain', 'in', 'the', 'united', 'states,', 'unless', 'a', 'copyright', 'notice', 'is', 'included.', 'therefore,', 'we', 'usually', 'do', 'not', 'keep', 'any', 'of', 'these', 'books', 'in', 'compliance', 'with', 'any', 'particular', 'paper', 'edition.', 'we', 'are', 'now', 'trying', 'to', 'release', 'all', 'our', 'books', 'one', 'month', 'in', 'advance', 'of', 'the', 'official', 'release', 'dates,', 'leaving', 'time', 'for', 'better', 'editing.', 'please', 'note:', 'neither', 'this', 'list', 'nor', 'its', 'contents', 'are', 'final', 'till', 'midnight', 'of', 'the', 'last', 'day', 'of', 'the', 'month', 'of', 'any', 'such', 'announcement.', 'the', 'official', 'release', 'date', 'of', 'all', 'project', 'gutenberg', 'etexts', 'is', 'at', 'midnight,', 'central', 'time,', 'of', 'the', 'last', 'day', 'of', 'the', 'stated', 'month.', 'a', 'preliminary', 'version', 'may', 'often', 'be', 'posted', 'for', 'suggestion,', 'comment', 'and', 'editing', 'by', 'those', 'who', 'wish', 'to', 'do', 'so.', 'to', 'be', 'sure', 'you', 'have', 'an', 'up', 'to', 'date', 'first', 'edition', '[xxxxx10x.xxx]', 'please', 'check', 'file', 'sizes', 'in', 'the', 'first', 'week', 'of', 'the', 'next', 'month.', 'since', 'our', 'ftp', 'program', 'has', 'a', 'bug', 'in', 'it', 'that', 'scrambles', 'the', 'date', '[tried', 'to', 'fix', 'and', 'failed]', 'a', 'look', 'at', 'the', 'file', 'size', 'will', 'have', 'to', 'do,', 'but', 'we', 'will', 'try', 'to', 'see', 'a', 'new', 'copy', 'has', 'at', 'least', 'one', 'byte', 'more', 'or', 'less.', 'information', 'about', 'project', 'gutenberg', '(one', 'page)', 'we', 'produce', 'about', 'two', 'million', 'dollars', 'for', 'each', 'hour', 'we', 'work.', 'the', 'time', 'it', 'takes', 'us,', 'a', 'rather', 'conservative', 'estimate,', 'is', 'fifty', 'hours', 'to', 'get', 'any', 'etext', 'selected,', 'entered,', 'proofread,', 'edited,', 'copyright', 'searched', 'and', 'analyzed,', 'the', 'copyright', 'letters', 'written,', 'etc.', 'this', 'projected', 'audience', 'is', 'one', 'hundred', 'million', 'readers.', 'if', 'our', 'value', 'per', 'text', 'is', 'nominally', 'estimated', 'at', 'one', 'dollar', 'then', 'we', 'produce', '$2', 'million', 'dollars', 'per', 'hour', 'this', 'year', 'as', 'we', 'release', 'thirty-six', 'text', 'files', 'per', 'month,', 'or', '432', 'more', 'etexts', 'in', '1999', 'for', 'a', 'total', 'of', '2000+', 'if', 'these', 'reach', 'just', '10%', 'of', 'the', 'computerized', 'population,', 'then', 'the', 'total', 'should', 'reach', 'over', '200', 'billion', 'etexts', 'given', 'away', 'this', 'year.', 'the', 'goal', 'of', 'project', 'gutenberg', 'is', 'to', 'give', 'away', 'one', 'trillion', 'etext', 'files', 'by', 'december', '31,', '2001.', '[10,000', 'x', '100,000,000', '=', '1', 'trillion]', 'this', 'is', 'ten', 'thousand', 'titles', 'each', 'to', 'one', 'hundred', 'million', 'readers,', 'which', 'is', 'only', '~5%', 'of', 'the', 'present', 'number', 'of', 'computer', 'users.', 'at', 'our', 'revised', 'rates', 'of', 'production,', 'we', 'will', 'reach', 'only', 'one-third', 'of', 'that', 'goal', 'by', 'the', 'end', 'of', '2001,', 'or', 'about', '3,333', 'etexts', 'unless', 'we', 'manage', 'to', 'get', 'some', 'real', 'funding;', 'currently', 'our', 'funding', 'is', 'mostly', 'from', 'michael', \"hart's\", 'salary', 'at', 'carnegie-mellon', 'university,', 'and', 'an', 'assortment', 'of', 'sporadic', 'gifts;', 'this', 'salary', 'is', 'only', 'good', 'for', 'a', 'few', 'more', 'years,', 'so', 'we', 'are', 'looking', 'for', 'something', 'to', 'replace', 'it,', 'as', 'we', \"don't\", 'want', 'project', 'gutenberg', 'to', 'be', 'so', 'dependent', 'on', 'one', 'person.', 'we', 'need', 'your', 'donations', 'more', 'than', 'ever!', 'all', 'donations', 'should', 'be', 'made', 'to', '\"project', 'gutenberg/cmu\":', 'and', 'are', 'tax', 'deductible', 'to', 'the', 'extent', 'allowable', 'by', 'law.', '(cmu', '=', 'carnegie-', 'mellon', 'university).', 'for', 'these', 'and', 'other', 'matters,', 'please', 'mail', 'to:', 'project', 'gutenberg', 'p.', 'o.', 'box', '2782', 'champaign,', 'il', '61825', 'when', 'all', 'other', 'email', 'fails.', '.', '.try', 'our', 'executive', 'director:', 'michael', 's.', 'hart', '<hart@pobox.com>', 'hart@pobox.com', 'forwards', 'to', 'hart@prairienet.org', 'and', 'archive.org', 'if', 'your', 'mail', 'bounces', 'from', 'archive.org,', 'i', 'will', 'still', 'see', 'it,', 'if', 'it', 'bounces', 'from', 'prairienet.org,', 'better', 'resend', 'later', 'on.', '.', '.', '.', 'we', 'would', 'prefer', 'to', 'send', 'you', 'this', 'information', 'by', 'email.', '******', 'to', 'access', 'project', 'gutenberg', 'etexts,', 'use', 'any', 'web', 'browser', 'to', 'view', 'http://promo.net/pg.', 'this', 'site', 'lists', 'etexts', 'by', 'author', 'and', 'by', 'title,', 'and', 'includes', 'information', 'about', 'how', 'to', 'get', 'involved', 'with', 'project', 'gutenberg.', 'you', 'could', 'also', 'download', 'our', 'past', 'newsletters,', 'or', 'subscribe', 'here.', 'this', 'is', 'one', 'of', 'our', 'major', 'sites,', 'please', 'email', 'hart@pobox.com,', 'for', 'a', 'more', 'complete', 'list', 'of', 'our', 'various', 'sites.', 'to', 'go', 'directly', 'to', 'the', 'etext', 'collections,', 'use', 'ftp', 'or', 'any', 'web', 'browser', 'to', 'visit', 'a', 'project', 'gutenberg', 'mirror', '(mirror', 'sites', 'are', 'available', 'on', '7', 'continents;', 'mirrors', 'are', 'listed', 'at', 'http://promo.net/pg).', 'mac', 'users,', 'do', 'not', 'point', 'and', 'click,', 'typing', 'works', 'better.', 'example', 'ftp', 'session:', 'ftp', 'sunsite.unc.edu', 'login:', 'anonymous', 'password:', 'your@login', 'cd', 'pub/docs/books/gutenberg', 'cd', 'etext90', 'through', 'etext99', 'dir', '[to', 'see', 'files]', 'get', 'or', 'mget', '[to', 'get', 'files.', '.', '.set', 'bin', 'for', 'zip', 'files]', 'get', 'gutindex.??', '[to', 'get', 'a', \"year's\", 'listing', 'of', 'books,', 'e.g.,', 'gutindex.99]', 'get', 'gutindex.all', '[to', 'get', 'a', 'listing', 'of', 'all', 'books]', '***', '**information', 'prepared', 'by', 'the', 'project', 'gutenberg', 'legal', 'advisor**', '(three', 'pages)', '***start**the', 'small', 'print!**for', 'public', 'domain', 'etexts**start***', 'why', 'is', 'this', '\"small', 'print!\"', 'statement', 'here?', 'you', 'know:', 'lawyers.', 'they', 'tell', 'us', 'you', 'might', 'sue', 'us', 'if', 'there', 'is', 'something', 'wrong', 'with', 'your', 'copy', 'of', 'this', 'etext,', 'even', 'if', 'you', 'got', 'it', 'for', 'free', 'from', 'someone', 'other', 'than', 'us,', 'and', 'even', 'if', \"what's\", 'wrong', 'is', 'not', 'our', 'fault.', 'so,', 'among', 'other', 'things,', 'this', '\"small', 'print!\"', 'statement', 'disclaims', 'most', 'of', 'our', 'liability', 'to', 'you.', 'it', 'also', 'tells', 'you', 'how', 'you', 'can', 'distribute', 'copies', 'of', 'this', 'etext', 'if', 'you', 'want', 'to.', '*before!*', 'you', 'use', 'or', 'read', 'this', 'etext', 'by', 'using', 'or', 'reading', 'any', 'part', 'of', 'this', 'project', 'gutenberg-tm', 'etext,', 'you', 'indicate', 'that', 'you', 'understand,', 'agree', 'to', 'and', 'accept', 'this', '\"small', 'print!\"', 'statement.', 'if', 'you', 'do', 'not,', 'you', 'can', 'receive', 'a', 'refund', 'of', 'the', 'money', '(if', 'any)', 'you', 'paid', 'for']\n"
     ]
    }
   ],
   "source": [
    "import requests\n",
    "macbeth = requests.get('http://www.gutenberg.org/cache/epub/2264/pg2264.txt').text\n",
    "macbeth = macbeth[871:].lower().split()\n",
    "\n",
    "#print(type(macbeth))\n",
    "# print(len(macbeth))\n",
    "print(macbeth[:872])"
   ]
  },
  {
   "cell_type": "markdown",
   "metadata": {},
   "source": [
    "### Your Task\n",
    "\n",
    "Your task is to create a bar graph of the 25 most common words in the Shakespeare's Macbeth.  \n",
    "\n",
    "\n",
    "A common python programming pattern to counting objects, produce histograms, or update statistics is to make calls to a dictionary as you iterate through a list. For example, given a list of words, you can create a dictionary to store counts and then iterate through the list of words, checking how many times each word has appeared using your dictionary, and updating the dictionary count now that you've seen that word again. The `dictionary.get()` method is very useful in doing this. Read the docstring for the dictionary.get() method and use it along with the pseudocode above to create a bar graph of the 25 most common words from the transcript of Macbeth which has been loaded into a variable 'Macbeth'. Be sure to include a title and appropriate labels for your graph."
   ]
  },
  {
   "cell_type": "code",
   "execution_count": 1,
   "metadata": {},
   "outputs": [],
   "source": [
    "      \n",
    "      \n",
    "      \n",
    "# Pseudo-code Outline\n",
    "# Split the transcript into words\n",
    "# Create a dictionary\n",
    "# Iterate through the text of Macbeth\n",
    "# Update word counts\n",
    "# Create Bar Graph\n",
    "# Include descriptive titles and labels"
   ]
  },
  {
   "cell_type": "code",
   "execution_count": 17,
   "metadata": {},
   "outputs": [
    {
     "data": {
      "image/png": "[encoded data removed]",
      "text/plain": [
       "<Figure size 432x288 with 1 Axes>"
      ]
     },
     "metadata": {
      "needs_background": "light"
     },
     "output_type": "display_data"
    },
    {
     "data": {
      "text/plain": [
       "<Figure size 720x576 with 0 Axes>"
      ]
     },
     "metadata": {},
     "output_type": "display_data"
    }
   ],
   "source": [
    "# create dict\n",
    "count = {}\n",
    "for word in macbeth:   \n",
    "    if word in count:\n",
    "        count[word] += 1\n",
    "    else:\n",
    "        count[word] = 1\n",
    "# now sort count  \n",
    "sorted_count = sorted(count.items(), key=lambda kv: kv[1], reverse = True)\n",
    "bar_data = sorted_count[:25]\n",
    "x_data = [x[0] for x in bar_data]\n",
    "y_data = [y[1] for y in bar_data]\n",
    "\n",
    "#print(bar_data)\n",
    "\n",
    "import matplotlib.pyplot as plt\n",
    "%matplotlib inline\n",
    "\n",
    "\n",
    "fig, ax = plt.subplots()\n",
    "rects1 = ax.bar(x_data, y_data, color='SkyBlue')\n",
    "ax.set_ylabel('Word Count')\n",
    "ax.set_title('Top 25 Words in Macbeth by Word Count')\n",
    "#ax.set_xticks(ind)\n",
    "#ax.set_xticklabels(('G1', 'G2', 'G3', 'G4', 'G5'))\n",
    "\n",
    "def autolabel(rects, xpos='center'):\n",
    "    \"\"\"\n",
    "    Attach a text label above each bar in *rects*, displaying its height.\n",
    "\n",
    "    *xpos* indicates which side to place the text w.r.t. the center of\n",
    "    the bar. It can be one of the following {'center', 'right', 'left'}.\n",
    "    \"\"\"\n",
    "\n",
    "    xpos = xpos.lower()  # normalize the case of the parameter\n",
    "    ha = {'center': 'center', 'right': 'left', 'left': 'right'}\n",
    "    offset = {'center': 0.5, 'right': 0.57, 'left': 0.43}  # x_txt = x + w*off\n",
    "\n",
    "    for rect in rects:\n",
    "        height = rect.get_height()\n",
    "        ax.text(rect.get_x() + rect.get_width()*offset[xpos], 1.01*height,\n",
    "                '{}'.format(height), ha=ha[xpos], va='bottom')\n",
    "\n",
    "\n",
    "autolabel(rects1, \"center\")\n",
    "\n",
    "plt.show()"
   ]
  },
  {
   "cell_type": "markdown",
   "metadata": {},
   "source": [
    "### Level Up (Optional)\n",
    "This project should take you about an hour and a half to complete. If you're done much more quickly than that and are not behind in the course, feel free to deepen your knowledge by completing any or all of the following tasks until you run out of time:\n",
    "* Create a list of top characters by mentions of their names \n",
    "* Split the text by which character is talking\n",
    "* Create sub graphs of the most common words by character\n",
    "* Reduce the string to the text of the play itself. (Remove any initial notes, forward, introduction, appendix, etc.)\n",
    "* Come up with some other fun analyses of the text!"
   ]
  },
  {
   "cell_type": "markdown",
   "metadata": {},
   "source": [
    "## Summary\n",
    "Congratulations! You've got some extra practice combining various data types into useful programming patterns and done an intitial analysis of a classic text!"
   ]
  }
 ],
 "metadata": {
  "kernelspec": {
   "display_name": "Python 3",
   "language": "python",
   "name": "python3"
  },
  "language_info": {
   "codemirror_mode": {
    "name": "ipython",
    "version": 3
   },
   "file_extension": ".py",
   "mimetype": "text/x-python",
   "name": "python",
   "nbconvert_exporter": "python",
   "pygments_lexer": "ipython3",
   "version": "3.6.6"
  }
 },
 "nbformat": 4,
 "nbformat_minor": 2
}
